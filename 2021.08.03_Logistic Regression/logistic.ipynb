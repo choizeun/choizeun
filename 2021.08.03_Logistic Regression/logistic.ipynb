{
 "cells": [
  {
   "cell_type": "markdown",
   "id": "382790e3",
   "metadata": {},
   "source": [
    "# 미국 의대생의 입학 관련 데이터"
   ]
  },
  {
   "cell_type": "markdown",
   "id": "a6a02fe7",
   "metadata": {},
   "source": [
    "- Acceptance: 0이면 불합격, 1이면 합격\n",
    "- BCPM: Bio/Chem/Physics/Math 과목의 학점 평균\n",
    "- GPA: 전체과목 학점 평균\n",
    "- VR: MCAT Verbal reasoning 과목 점수\n",
    "- PS: MCAT Physical sciences 과목 점수\n",
    "- WS: MCAT Writing sample 과목 점수\n",
    "- BS: MCAT Biological sciences 과목 점수\n",
    "- MCAT: MCAT 총점(=VR+PS+WS+BS)\n",
    "- Apps: 의대 지원 횟수"
   ]
  },
  {
   "cell_type": "code",
   "execution_count": 1,
   "id": "8431a18b",
   "metadata": {},
   "outputs": [
    {
     "data": {
      "text/html": [
       "<div>\n",
       "<style scoped>\n",
       "    .dataframe tbody tr th:only-of-type {\n",
       "        vertical-align: middle;\n",
       "    }\n",
       "\n",
       "    .dataframe tbody tr th {\n",
       "        vertical-align: top;\n",
       "    }\n",
       "\n",
       "    .dataframe thead th {\n",
       "        text-align: right;\n",
       "    }\n",
       "</style>\n",
       "<table border=\"1\" class=\"dataframe\">\n",
       "  <thead>\n",
       "    <tr style=\"text-align: right;\">\n",
       "      <th></th>\n",
       "      <th>Accept</th>\n",
       "      <th>Acceptance</th>\n",
       "      <th>Sex</th>\n",
       "      <th>BCPM</th>\n",
       "      <th>GPA</th>\n",
       "      <th>VR</th>\n",
       "      <th>PS</th>\n",
       "      <th>WS</th>\n",
       "      <th>BS</th>\n",
       "      <th>MCAT</th>\n",
       "      <th>Apps</th>\n",
       "    </tr>\n",
       "  </thead>\n",
       "  <tbody>\n",
       "    <tr>\n",
       "      <th>50</th>\n",
       "      <td>D</td>\n",
       "      <td>0</td>\n",
       "      <td>M</td>\n",
       "      <td>2.41</td>\n",
       "      <td>2.72</td>\n",
       "      <td>8</td>\n",
       "      <td>8</td>\n",
       "      <td>8.0</td>\n",
       "      <td>8</td>\n",
       "      <td>32</td>\n",
       "      <td>7</td>\n",
       "    </tr>\n",
       "    <tr>\n",
       "      <th>51</th>\n",
       "      <td>D</td>\n",
       "      <td>0</td>\n",
       "      <td>M</td>\n",
       "      <td>3.51</td>\n",
       "      <td>3.56</td>\n",
       "      <td>11</td>\n",
       "      <td>8</td>\n",
       "      <td>6.0</td>\n",
       "      <td>9</td>\n",
       "      <td>34</td>\n",
       "      <td>6</td>\n",
       "    </tr>\n",
       "    <tr>\n",
       "      <th>52</th>\n",
       "      <td>A</td>\n",
       "      <td>1</td>\n",
       "      <td>F</td>\n",
       "      <td>3.43</td>\n",
       "      <td>3.48</td>\n",
       "      <td>7</td>\n",
       "      <td>10</td>\n",
       "      <td>7.0</td>\n",
       "      <td>10</td>\n",
       "      <td>34</td>\n",
       "      <td>14</td>\n",
       "    </tr>\n",
       "    <tr>\n",
       "      <th>53</th>\n",
       "      <td>D</td>\n",
       "      <td>0</td>\n",
       "      <td>M</td>\n",
       "      <td>2.61</td>\n",
       "      <td>2.80</td>\n",
       "      <td>7</td>\n",
       "      <td>5</td>\n",
       "      <td>NaN</td>\n",
       "      <td>6</td>\n",
       "      <td>18</td>\n",
       "      <td>6</td>\n",
       "    </tr>\n",
       "    <tr>\n",
       "      <th>54</th>\n",
       "      <td>D</td>\n",
       "      <td>0</td>\n",
       "      <td>M</td>\n",
       "      <td>3.36</td>\n",
       "      <td>3.44</td>\n",
       "      <td>11</td>\n",
       "      <td>11</td>\n",
       "      <td>8.0</td>\n",
       "      <td>9</td>\n",
       "      <td>39</td>\n",
       "      <td>1</td>\n",
       "    </tr>\n",
       "  </tbody>\n",
       "</table>\n",
       "</div>"
      ],
      "text/plain": [
       "   Accept  Acceptance Sex  BCPM   GPA  VR  PS   WS  BS  MCAT  Apps\n",
       "50      D           0   M  2.41  2.72   8   8  8.0   8    32     7\n",
       "51      D           0   M  3.51  3.56  11   8  6.0   9    34     6\n",
       "52      A           1   F  3.43  3.48   7  10  7.0  10    34    14\n",
       "53      D           0   M  2.61  2.80   7   5  NaN   6    18     6\n",
       "54      D           0   M  3.36  3.44  11  11  8.0   9    39     1"
      ]
     },
     "execution_count": 1,
     "metadata": {},
     "output_type": "execute_result"
    }
   ],
   "source": [
    "import statsmodels.api as sm\n",
    "\n",
    "data_med = sm.datasets.get_rdataset(\"MedGPA\", package=\"Stat2Data\")\n",
    "df_med = data_med.data\n",
    "df_med.tail()"
   ]
  },
  {
   "cell_type": "markdown",
   "id": "71b34a48",
   "metadata": {},
   "source": [
    "학점(GPA)과 합격여부와의 관계"
   ]
  },
  {
   "cell_type": "code",
   "execution_count": 2,
   "id": "19b99bee",
   "metadata": {},
   "outputs": [
    {
     "data": {
      "image/png": "[encoded data removed]",
      "text/plain": [
       "<Figure size 432x288 with 1 Axes>"
      ]
     },
     "metadata": {
      "needs_background": "light"
     },
     "output_type": "display_data"
    }
   ],
   "source": [
    "import seaborn as sns\n",
    "import matplotlib.pyplot as plt\n",
    "\n",
    "sns.stripplot(x=\"GPA\", y=\"Acceptance\", data=df_med,\n",
    "              jitter=True, orient='h', order=[1, 0])\n",
    "plt.grid(True)\n",
    "plt.show()"
   ]
  },
  {
   "cell_type": "code",
   "execution_count": 3,
   "id": "53ddb324",
   "metadata": {},
   "outputs": [
    {
     "name": "stdout",
     "output_type": "stream",
     "text": [
      "Optimization terminated successfully.\n",
      "         Current function value: 0.280736\n",
      "         Iterations 9\n",
      "                           Logit Regression Results                           \n",
      "==============================================================================\n",
      "Dep. Variable:             Acceptance   No. Observations:                   54\n",
      "Model:                          Logit   Df Residuals:                       45\n",
      "Method:                           MLE   Df Model:                            8\n",
      "Date:                Tue, 03 Aug 2021   Pseudo R-squ.:                  0.5913\n",
      "Time:                        00:12:42   Log-Likelihood:                -15.160\n",
      "converged:                       True   LL-Null:                       -37.096\n",
      "Covariance Type:            nonrobust   LLR p-value:                 6.014e-07\n",
      "==============================================================================\n",
      "                 coef    std err          z      P>|z|      [0.025      0.975]\n",
      "------------------------------------------------------------------------------\n",
      "Intercept    -46.6414     15.600     -2.990      0.003     -77.216     -16.067\n",
      "Sex[T.M]      -2.2835      1.429     -1.597      0.110      -5.085       0.518\n",
      "BCPM          -6.1633      6.963     -0.885      0.376     -19.811       7.484\n",
      "GPA           12.3973      8.611      1.440      0.150      -4.479      29.274\n",
      "VR             0.0790      0.311      0.254      0.799      -0.530       0.688\n",
      "PS             1.1673      0.539      2.164      0.030       0.110       2.225\n",
      "WS            -0.7784      0.396     -1.968      0.049      -1.554      -0.003\n",
      "BS             1.9184      0.682      2.814      0.005       0.582       3.255\n",
      "Apps           0.0512      0.147      0.348      0.728      -0.237       0.340\n",
      "==============================================================================\n"
     ]
    }
   ],
   "source": [
    "#로지스틱 회귀분석 실시. MCAT를 제외한 변수들을 넣어줌\n",
    "\n",
    "model_med = sm.Logit.from_formula(\"Acceptance ~ Sex + BCPM + GPA + VR + PS + WS + BS + Apps\", df_med)\n",
    "result_med = model_med.fit()\n",
    "print(result_med.summary())"
   ]
  },
  {
   "cell_type": "markdown",
   "id": "3d804d99",
   "metadata": {},
   "source": [
    "p-value를 기준으로 유의미 하지 않은 변수를 제외하기로 함. BCPM, VR, Apps."
   ]
  },
  {
   "cell_type": "code",
   "execution_count": 4,
   "id": "fd7eb41e",
   "metadata": {},
   "outputs": [
    {
     "data": {
      "image/png": "[encoded data removed]",
      "text/plain": [
       "<Figure size 432x288 with 1 Axes>"
      ]
     },
     "metadata": {
      "needs_background": "light"
     },
     "output_type": "display_data"
    }
   ],
   "source": [
    "df_med[\"Prediction\"] = result_med.predict(df_med)\n",
    "sns.boxplot(x=\"Acceptance\", y=\"Prediction\", data=df_med)\n",
    "plt.show()"
   ]
  },
  {
   "cell_type": "markdown",
   "id": "98d52dc1",
   "metadata": {},
   "source": [
    "실제값과 예측결과를 비교한 결과\n",
    "\n",
    "유의하지 않은 점수를 제외하고 다시 로지스틱 회귀분석 시행."
   ]
  },
  {
   "cell_type": "code",
   "execution_count": 10,
   "id": "a9d268bb",
   "metadata": {},
   "outputs": [
    {
     "name": "stdout",
     "output_type": "stream",
     "text": [
      "Optimization terminated successfully.\n",
      "         Current function value: 0.290013\n",
      "         Iterations 8\n",
      "                           Logit Regression Results                           \n",
      "==============================================================================\n",
      "Dep. Variable:             Acceptance   No. Observations:                   54\n",
      "Model:                          Logit   Df Residuals:                       48\n",
      "Method:                           MLE   Df Model:                            5\n",
      "Date:                Tue, 03 Aug 2021   Pseudo R-squ.:                  0.5778\n",
      "Time:                        00:18:48   Log-Likelihood:                -15.661\n",
      "converged:                       True   LL-Null:                       -37.096\n",
      "Covariance Type:            nonrobust   LLR p-value:                 3.925e-08\n",
      "==============================================================================\n",
      "                 coef    std err          z      P>|z|      [0.025      0.975]\n",
      "------------------------------------------------------------------------------\n",
      "Intercept    -39.4709     12.215     -3.231      0.001     -63.411     -15.531\n",
      "Sex[T.M]      -2.8403      1.158     -2.453      0.014      -5.110      -0.571\n",
      "GPA            5.3344      2.481      2.150      0.032       0.472      10.197\n",
      "PS             1.0248      0.472      2.170      0.030       0.099       1.950\n",
      "WS            -0.7178      0.350     -2.053      0.040      -1.403      -0.032\n",
      "BS             1.7915      0.643      2.784      0.005       0.530       3.053\n",
      "==============================================================================\n"
     ]
    }
   ],
   "source": [
    "model_med = sm.Logit.from_formula(\"Acceptance ~ Sex +  GPA + PS + WS + BS\", df_med)\n",
    "result_med = model_med.fit()\n",
    "print(result_med.summary())"
   ]
  },
  {
   "cell_type": "markdown",
   "id": "da83fc7b",
   "metadata": {},
   "source": [
    "이 모델을 최종 모델로 선택한다면, 나머지 변수를 모두 고정 시킨 상태에서 하나의 변수를 1만큼 증가시켰을 때의 변화를 확인\n",
    "예를들어 PS가 1 증가하면 합격할 확률(odds)이 exp(1.0248) = 2.79배 증가"
   ]
  },
  {
   "cell_type": "code",
   "execution_count": 11,
   "id": "c3c393db",
   "metadata": {},
   "outputs": [
    {
     "data": {
      "image/png": "[encoded data removed]",
      "text/plain": [
       "<Figure size 432x288 with 1 Axes>"
      ]
     },
     "metadata": {
      "needs_background": "light"
     },
     "output_type": "display_data"
    }
   ],
   "source": [
    "df_med[\"Prediction\"] = result_med.predict(df_med)\n",
    "sns.boxplot(x=\"Acceptance\", y=\"Prediction\", data=df_med)\n",
    "plt.show()"
   ]
  }
 ],
 "metadata": {
  "kernelspec": {
   "display_name": "Python 3",
   "language": "python",
   "name": "python3"
  },
  "language_info": {
   "codemirror_mode": {
    "name": "ipython",
    "version": 3
   },
   "file_extension": ".py",
   "mimetype": "text/x-python",
   "name": "python",
   "nbconvert_exporter": "python",
   "pygments_lexer": "ipython3",
   "version": "3.7.6"
  }
 },
 "nbformat": 4,
 "nbformat_minor": 5
}
